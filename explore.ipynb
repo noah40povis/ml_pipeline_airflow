{
 "metadata": {
  "language_info": {
   "codemirror_mode": {
    "name": "ipython",
    "version": 3
   },
   "file_extension": ".py",
   "mimetype": "text/x-python",
   "name": "python",
   "nbconvert_exporter": "python",
   "pygments_lexer": "ipython3",
   "version": "3.8.3-final"
  },
  "orig_nbformat": 2,
  "kernelspec": {
   "name": "python3",
   "display_name": "Python 3.8.3 64-bit ('base': conda)",
   "metadata": {
    "interpreter": {
     "hash": "1c02c9bc6bd0bd95975e1b960fe778c13e1f59627f951ebe48fbe7c9ba83ffe4"
    }
   }
  }
 },
 "nbformat": 4,
 "nbformat_minor": 2,
 "cells": [
  {
   "cell_type": "code",
   "execution_count": null,
   "metadata": {},
   "outputs": [],
   "source": [
    "import pandas as pd \n",
    "import numpy as np"
   ]
  },
  {
   "cell_type": "code",
   "execution_count": 120,
   "metadata": {},
   "outputs": [],
   "source": [
    "search_request = pd.read_csv('/Users/noahchristian/Downloads/ml_pipeline_airflow/data/search_request.csv')\n",
    "search_results = pd.read_csv('/Users/noahchristian/Downloads/ml_pipeline_airflow/data/search_result_interaction.csv')"
   ]
  },
  {
   "cell_type": "code",
   "execution_count": 105,
   "metadata": {},
   "outputs": [
    {
     "output_type": "execute_result",
     "data": {
      "text/plain": [
       "   Unnamed: 0             search_id          search_query  \\\n",
       "0           0  gSogzavY5nP7fCLEtWdc                  wyrm   \n",
       "1           1  LJVevlnG6YSz8hWRzGAu  can you read my lips   \n",
       "\n",
       "                         ts      cuid  total  \n",
       "0 2020-03-10 13:24:31+00:00   1259928     86  \n",
       "1 2020-09-02 21:41:24+00:00  95330844    142  "
      ],
      "text/html": "<div>\n<style scoped>\n    .dataframe tbody tr th:only-of-type {\n        vertical-align: middle;\n    }\n\n    .dataframe tbody tr th {\n        vertical-align: top;\n    }\n\n    .dataframe thead th {\n        text-align: right;\n    }\n</style>\n<table border=\"1\" class=\"dataframe\">\n  <thead>\n    <tr style=\"text-align: right;\">\n      <th></th>\n      <th>Unnamed: 0</th>\n      <th>search_id</th>\n      <th>search_query</th>\n      <th>ts</th>\n      <th>cuid</th>\n      <th>total</th>\n    </tr>\n  </thead>\n  <tbody>\n    <tr>\n      <th>0</th>\n      <td>0</td>\n      <td>gSogzavY5nP7fCLEtWdc</td>\n      <td>wyrm</td>\n      <td>2020-03-10 13:24:31+00:00</td>\n      <td>1259928</td>\n      <td>86</td>\n    </tr>\n    <tr>\n      <th>1</th>\n      <td>1</td>\n      <td>LJVevlnG6YSz8hWRzGAu</td>\n      <td>can you read my lips</td>\n      <td>2020-09-02 21:41:24+00:00</td>\n      <td>95330844</td>\n      <td>142</td>\n    </tr>\n  </tbody>\n</table>\n</div>"
     },
     "metadata": {},
     "execution_count": 105
    }
   ],
   "source": [
    "search_request.head(2)"
   ]
  },
  {
   "cell_type": "code",
   "execution_count": 106,
   "metadata": {},
   "outputs": [
    {
     "output_type": "execute_result",
     "data": {
      "text/plain": [
       "   Unnamed: 0             search_id                             ts        cid  \\\n",
       "0           0  CjooiSDXx5dsx4ipdOoS  2018-09-03 21:24:50.000 -0400     210981   \n",
       "1           1  pYUNPqVjnN81YAYPAVNM  2020-01-10 22:56:47.000 -0500  174957219   \n",
       "\n",
       "   position  \n",
       "0         7  \n",
       "1         1  "
      ],
      "text/html": "<div>\n<style scoped>\n    .dataframe tbody tr th:only-of-type {\n        vertical-align: middle;\n    }\n\n    .dataframe tbody tr th {\n        vertical-align: top;\n    }\n\n    .dataframe thead th {\n        text-align: right;\n    }\n</style>\n<table border=\"1\" class=\"dataframe\">\n  <thead>\n    <tr style=\"text-align: right;\">\n      <th></th>\n      <th>Unnamed: 0</th>\n      <th>search_id</th>\n      <th>ts</th>\n      <th>cid</th>\n      <th>position</th>\n    </tr>\n  </thead>\n  <tbody>\n    <tr>\n      <th>0</th>\n      <td>0</td>\n      <td>CjooiSDXx5dsx4ipdOoS</td>\n      <td>2018-09-03 21:24:50.000 -0400</td>\n      <td>210981</td>\n      <td>7</td>\n    </tr>\n    <tr>\n      <th>1</th>\n      <td>1</td>\n      <td>pYUNPqVjnN81YAYPAVNM</td>\n      <td>2020-01-10 22:56:47.000 -0500</td>\n      <td>174957219</td>\n      <td>1</td>\n    </tr>\n  </tbody>\n</table>\n</div>"
     },
     "metadata": {},
     "execution_count": 106
    }
   ],
   "source": [
    "search_results.head(2)"
   ]
  },
  {
   "cell_type": "code",
   "execution_count": null,
   "metadata": {},
   "outputs": [],
   "source": [
    "search_request.isnull().sum()"
   ]
  },
  {
   "cell_type": "code",
   "execution_count": null,
   "metadata": {},
   "outputs": [],
   "source": [
    "search_results.isnull().sum()"
   ]
  },
  {
   "cell_type": "code",
   "execution_count": null,
   "metadata": {},
   "outputs": [],
   "source": [
    "search_request.shape, search_request.shape"
   ]
  },
  {
   "cell_type": "code",
   "execution_count": null,
   "metadata": {},
   "outputs": [],
   "source": [
    "search_results.describe(include='all')"
   ]
  },
  {
   "cell_type": "code",
   "execution_count": null,
   "metadata": {},
   "outputs": [],
   "source": [
    "search_request.describe(include='all')"
   ]
  },
  {
   "cell_type": "code",
   "execution_count": 118,
   "metadata": {
    "tags": []
   },
   "outputs": [],
   "source": [
    "#create function to clean up ts column \n",
    "def clean(df):\n",
    "    for count, value in enumerate(df['ts']):\n",
    "        if value[27:28] == '0':\n",
    "            x = value[:19]\n",
    "            y = value[24:]\n",
    "            z = y[:3] + ':' + y[3:]\n",
    "            cleaned = x + z\n",
    "            df['ts'][count] = cleaned\n",
    "            df['ts'] = pd.to_datetime(search_request['ts'], utc=True)\n",
    "    return df "
   ]
  },
  {
   "cell_type": "code",
   "execution_count": null,
   "metadata": {},
   "outputs": [],
   "source": [
    "total = df2.merge(df, on=\"search_id\", how=\"left\", copy=False)\n",
    "total.head()"
   ]
  },
  {
   "cell_type": "code",
   "execution_count": null,
   "metadata": {},
   "outputs": [],
   "source": [
    "total.isnull().sum()"
   ]
  },
  {
   "cell_type": "code",
   "execution_count": null,
   "metadata": {},
   "outputs": [],
   "source": [
    "total = total.dropna()\n",
    "total.head()"
   ]
  },
  {
   "cell_type": "code",
   "execution_count": null,
   "metadata": {},
   "outputs": [],
   "source": [
    "search_request = pd.DataFrame(total, columns = ['search_id', 'ts_y', 'cuid', 'total'])\n",
    "search_result_interaction = pd.DataFrame(total, columns = ['search_id', 'ts_x', 'cid', 'position'])"
   ]
  },
  {
   "cell_type": "code",
   "execution_count": null,
   "metadata": {},
   "outputs": [],
   "source": [
    "search_request['cuid'] = search_request.cuid.astype(int)\n",
    "search_request['total'] = search_request.total.astype(int)\n",
    "search_request = search_request.rename(columns={'ts_y':'ts'})\n",
    "search_request.head()"
   ]
  },
  {
   "cell_type": "code",
   "execution_count": null,
   "metadata": {},
   "outputs": [],
   "source": [
    "search_result_interaction = search_result_interaction.rename(columns={'ts_x':'ts'})\n",
    "search_result_interaction.head()"
   ]
  }
 ]
}